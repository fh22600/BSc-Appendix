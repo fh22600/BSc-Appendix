{
 "cells": [
  {
   "cell_type": "code",
   "execution_count": 4,
   "metadata": {},
   "outputs": [
    {
     "name": "stderr",
     "output_type": "stream",
     "text": [
      "/user/work/fh22600/miniforge3/envs/mda/lib/python3.12/site-packages/tqdm/auto.py:21: TqdmWarning: IProgress not found. Please update jupyter and ipywidgets. See https://ipywidgets.readthedocs.io/en/stable/user_install.html\n",
      "  from .autonotebook import tqdm as notebook_tqdm\n",
      "/user/work/fh22600/miniforge3/envs/mda/lib/python3.12/site-packages/Bio/Application/__init__.py:39: BiopythonDeprecationWarning: The Bio.Application modules and modules relying on it have been deprecated.\n",
      "\n",
      "Due to the on going maintenance burden of keeping command line application\n",
      "wrappers up to date, we have decided to deprecate and eventually remove these\n",
      "modules.\n",
      "\n",
      "We instead now recommend building your command line and invoking it directly\n",
      "with the subprocess module.\n",
      "  warnings.warn(\n"
     ]
    }
   ],
   "source": [
    "import MDAnalysis as mda\n",
    "from MDAnalysis.analysis import align\n",
    "from MDAnalysis.analysis import distances\n",
    "import numpy as np"
   ]
  },
  {
   "cell_type": "code",
   "execution_count": 5,
   "metadata": {},
   "outputs": [],
   "source": [
    "filepath = \"/user/work/fh22600/1A0_Sim\""
   ]
  },
  {
   "cell_type": "code",
   "execution_count": 6,
   "metadata": {},
   "outputs": [],
   "source": [
    "times = [50, 60, 70, 75, 80, 90, 100, 110, 120, 125, 130, 140, 150, 160, 170, 175, 180, 190, 200,210, 220, 225, 230, 240, 250, 260, 270, 275, 280, 290, 300,310, 320, 325, 330, 340, 350, 360,370, 375, 380, 390, 400, 410, 420, 425, 430, 440, 450, 460, 470, 475, 480, 490,500 ]\n"
   ]
  },
  {
   "cell_type": "code",
   "execution_count": 7,
   "metadata": {},
   "outputs": [],
   "source": [
    "# times = set([time for time in range(50,510,10)] + [time for time in range(50,510,25)])"
   ]
  },
  {
   "cell_type": "code",
   "execution_count": 8,
   "metadata": {},
   "outputs": [],
   "source": [
    "# times = list(times)"
   ]
  },
  {
   "cell_type": "code",
   "execution_count": 9,
   "metadata": {},
   "outputs": [],
   "source": [
    "runs = range(1,11) ## 1 to 10 \n",
    "#times = [50, 60, 70, 75, 80, 90, 100, 110, 120, 125, 130, 140, 150, 160, 175, 180, 190, 200,210, 220, 225, 230, 240, 250, 260, 275, 280, 290, 300,310, 320, 325, 330, 340, 350, 360,370, 375, 380, 390, 400, 410, 420, 425, 430, 440, 450, 460, 470, 475, 480, 490,500 ]\n",
    "\n",
    "time_points = [0, 10, 20, 30, 40, 50, 60, 70, 80, 90, 100]\n",
    "average_changes = []\n",
    "with open('distances_output.txt', 'w') as f:\n",
    "    f.write(\"NETime(ps)\\tMD_run\\tEstarttime(ns)\\tE_Distance(Å)\\tNE_Distance(Å)\\tChange(Å)\\n\")\n",
    "    \n",
    "    for tp in time_points:\n",
    "        e_dists = []\n",
    "        ne_dists = []\n",
    "        dist_changes = []\n",
    "        for run in runs:\n",
    "            for time in times:\n",
    "            \n",
    "                ref = mda.Universe(f'{filepath}/Repeat_{run}/ns_{time}/equil/md{time}_{tp}.pdb') \n",
    "                other = mda.Universe(f'{filepath}/Repeat_{run}/ns_{time}/md{time}_{tp}.pdb')\n",
    "                \n",
    "                align.alignto(other, ref, select='name CA')\n",
    "                ## just need to calculate loop distance for non equilibrium\n",
    "                neloopatom1 = other.select_atoms('(resid 57) and (name CA)')\n",
    "                neloopatom2 = other.select_atoms('(resid 187) and (name CA)')\n",
    "                \n",
    "                resids1, resids2, ne_dist = distances.dist(neloopatom1, neloopatom2, offset=0)\n",
    "\n",
    "                eloopatom1 = ref.select_atoms('(resid 57) and (name CA)')\n",
    "                eloopatom2 = ref.select_atoms('(resid 187) and (name CA)')\n",
    "                \n",
    "                resids1, resids2, e_dist = distances.dist(eloopatom1, eloopatom2, offset=0)\n",
    "\n",
    "                e_dists.append(e_dist[0])\n",
    "                ne_dists.append(ne_dist[0])\n",
    "                dist_change = ne_dist[0] - e_dist[0]\n",
    "                #avg_distance = np.mean(dist)\n",
    "                dist_changes.append(dist_change)\n",
    "                #print(dist_change)\n",
    "        #overall_avg_distance = np.mean(loopdistances)\n",
    "        #f.write(f\"{tp}\\t{overall_avg_distance:.3f}\\n\")\n",
    "\n",
    "                f.write(f\"{tp}ns\\t{run}\\t{time}\\t{np.mean(e_dist):.3f}\\t{np.mean(ne_dist):.3f}\\t{np.mean(dist_change):.3f}\\n\") \n",
    "\n",
    "        timepoint_avg = np.mean(dist_changes) if dist_changes else 0.0   \n",
    "\n",
    "        f.write(f\"{tp}ns\\tAverage\\tAverage\\t{np.mean(e_dists):.3f}\\t{np.mean(ne_dists):.3f}\\t{timepoint_avg:.3f}\\n\")\n",
    "        average_changes.append(timepoint_avg)          "
   ]
  },
  {
   "cell_type": "code",
   "execution_count": 10,
   "metadata": {},
   "outputs": [],
   "source": [
    "import matplotlib.pyplot as plt\n",
    "import pandas as pd"
   ]
  },
  {
   "cell_type": "code",
   "execution_count": 11,
   "metadata": {},
   "outputs": [],
   "source": [
    "time_points = [0, 10, 20, 30, 40, 50, 60, 70, 80, 90, 100]"
   ]
  },
  {
   "cell_type": "code",
   "execution_count": 12,
   "metadata": {},
   "outputs": [
    {
     "ename": "NameError",
     "evalue": "name 'average_changes' is not defined",
     "output_type": "error",
     "traceback": [
      "\u001b[0;31m---------------------------------------------------------------------------\u001b[0m",
      "\u001b[0;31mNameError\u001b[0m                                 Traceback (most recent call last)",
      "Cell \u001b[0;32mIn[15], line 1\u001b[0m\n\u001b[0;32m----> 1\u001b[0m plt\u001b[38;5;241m.\u001b[39mplot(time_points[:\u001b[38;5;28mlen\u001b[39m(\u001b[43maverage_changes\u001b[49m)], average_changes)\n",
      "\u001b[0;31mNameError\u001b[0m: name 'average_changes' is not defined"
     ]
    }
   ],
   "source": [
    "plt.plot(time_points[:len(average_changes)], average_changes)"
   ]
  },
  {
   "cell_type": "code",
   "execution_count": 16,
   "metadata": {},
   "outputs": [],
   "source": [
    "import pandas as pd"
   ]
  },
  {
   "cell_type": "code",
   "execution_count": 17,
   "metadata": {},
   "outputs": [],
   "source": [
    "all_df = pd.read_csv(\"distances_output.txt\", sep='\\t')"
   ]
  },
  {
   "cell_type": "code",
   "execution_count": 18,
   "metadata": {},
   "outputs": [],
   "source": [
    "averages_df = all_df[all_df[\"MD_run\"] == \"Average\"]"
   ]
  },
  {
   "cell_type": "code",
   "execution_count": 19,
   "metadata": {},
   "outputs": [
    {
     "data": {
      "text/html": [
       "<div>\n",
       "<style scoped>\n",
       "    .dataframe tbody tr th:only-of-type {\n",
       "        vertical-align: middle;\n",
       "    }\n",
       "\n",
       "    .dataframe tbody tr th {\n",
       "        vertical-align: top;\n",
       "    }\n",
       "\n",
       "    .dataframe thead th {\n",
       "        text-align: right;\n",
       "    }\n",
       "</style>\n",
       "<table border=\"1\" class=\"dataframe\">\n",
       "  <thead>\n",
       "    <tr style=\"text-align: right;\">\n",
       "      <th></th>\n",
       "      <th>NETime(ps)</th>\n",
       "      <th>MD_run</th>\n",
       "      <th>Estarttime(ns)</th>\n",
       "      <th>E_Distance(Å)</th>\n",
       "      <th>NE_Distance(Å)</th>\n",
       "      <th>Change(Å)</th>\n",
       "    </tr>\n",
       "  </thead>\n",
       "  <tbody>\n",
       "    <tr>\n",
       "      <th>550</th>\n",
       "      <td>0ns</td>\n",
       "      <td>Average</td>\n",
       "      <td>Average</td>\n",
       "      <td>17.483</td>\n",
       "      <td>17.483</td>\n",
       "      <td>0.000</td>\n",
       "    </tr>\n",
       "    <tr>\n",
       "      <th>1101</th>\n",
       "      <td>10ns</td>\n",
       "      <td>Average</td>\n",
       "      <td>Average</td>\n",
       "      <td>17.606</td>\n",
       "      <td>17.515</td>\n",
       "      <td>-0.091</td>\n",
       "    </tr>\n",
       "    <tr>\n",
       "      <th>1652</th>\n",
       "      <td>20ns</td>\n",
       "      <td>Average</td>\n",
       "      <td>Average</td>\n",
       "      <td>17.610</td>\n",
       "      <td>17.478</td>\n",
       "      <td>-0.132</td>\n",
       "    </tr>\n",
       "    <tr>\n",
       "      <th>2203</th>\n",
       "      <td>30ns</td>\n",
       "      <td>Average</td>\n",
       "      <td>Average</td>\n",
       "      <td>17.629</td>\n",
       "      <td>17.453</td>\n",
       "      <td>-0.176</td>\n",
       "    </tr>\n",
       "    <tr>\n",
       "      <th>2754</th>\n",
       "      <td>40ns</td>\n",
       "      <td>Average</td>\n",
       "      <td>Average</td>\n",
       "      <td>17.596</td>\n",
       "      <td>17.466</td>\n",
       "      <td>-0.130</td>\n",
       "    </tr>\n",
       "    <tr>\n",
       "      <th>3305</th>\n",
       "      <td>50ns</td>\n",
       "      <td>Average</td>\n",
       "      <td>Average</td>\n",
       "      <td>17.597</td>\n",
       "      <td>17.435</td>\n",
       "      <td>-0.162</td>\n",
       "    </tr>\n",
       "    <tr>\n",
       "      <th>3856</th>\n",
       "      <td>60ns</td>\n",
       "      <td>Average</td>\n",
       "      <td>Average</td>\n",
       "      <td>17.543</td>\n",
       "      <td>17.482</td>\n",
       "      <td>-0.061</td>\n",
       "    </tr>\n",
       "    <tr>\n",
       "      <th>4407</th>\n",
       "      <td>70ns</td>\n",
       "      <td>Average</td>\n",
       "      <td>Average</td>\n",
       "      <td>17.534</td>\n",
       "      <td>17.402</td>\n",
       "      <td>-0.132</td>\n",
       "    </tr>\n",
       "    <tr>\n",
       "      <th>4958</th>\n",
       "      <td>80ns</td>\n",
       "      <td>Average</td>\n",
       "      <td>Average</td>\n",
       "      <td>17.576</td>\n",
       "      <td>17.399</td>\n",
       "      <td>-0.177</td>\n",
       "    </tr>\n",
       "    <tr>\n",
       "      <th>5509</th>\n",
       "      <td>90ns</td>\n",
       "      <td>Average</td>\n",
       "      <td>Average</td>\n",
       "      <td>17.549</td>\n",
       "      <td>17.450</td>\n",
       "      <td>-0.099</td>\n",
       "    </tr>\n",
       "    <tr>\n",
       "      <th>6060</th>\n",
       "      <td>100ns</td>\n",
       "      <td>Average</td>\n",
       "      <td>Average</td>\n",
       "      <td>17.463</td>\n",
       "      <td>17.438</td>\n",
       "      <td>-0.025</td>\n",
       "    </tr>\n",
       "  </tbody>\n",
       "</table>\n",
       "</div>"
      ],
      "text/plain": [
       "     NETime(ps)   MD_run Estarttime(ns)  E_Distance(Å)  NE_Distance(Å)  \\\n",
       "550         0ns  Average        Average         17.483          17.483   \n",
       "1101       10ns  Average        Average         17.606          17.515   \n",
       "1652       20ns  Average        Average         17.610          17.478   \n",
       "2203       30ns  Average        Average         17.629          17.453   \n",
       "2754       40ns  Average        Average         17.596          17.466   \n",
       "3305       50ns  Average        Average         17.597          17.435   \n",
       "3856       60ns  Average        Average         17.543          17.482   \n",
       "4407       70ns  Average        Average         17.534          17.402   \n",
       "4958       80ns  Average        Average         17.576          17.399   \n",
       "5509       90ns  Average        Average         17.549          17.450   \n",
       "6060      100ns  Average        Average         17.463          17.438   \n",
       "\n",
       "      Change(Å)  \n",
       "550       0.000  \n",
       "1101     -0.091  \n",
       "1652     -0.132  \n",
       "2203     -0.176  \n",
       "2754     -0.130  \n",
       "3305     -0.162  \n",
       "3856     -0.061  \n",
       "4407     -0.132  \n",
       "4958     -0.177  \n",
       "5509     -0.099  \n",
       "6060     -0.025  "
      ]
     },
     "execution_count": 19,
     "metadata": {},
     "output_type": "execute_result"
    }
   ],
   "source": [
    "averages_df"
   ]
  },
  {
   "cell_type": "markdown",
   "metadata": {},
   "source": [
    "Plotting change in loop distance for 1A53-2 and 1A53-2.5"
   ]
  },
  {
   "cell_type": "code",
   "execution_count": 20,
   "metadata": {},
   "outputs": [
    {
     "data": {
      "text/plain": [
       "[0.0,\n",
       " 0.09393040413337767,\n",
       " 0.09458049738061322,\n",
       " 0.09132585733271595,\n",
       " 0.08799957471182362,\n",
       " 0.0904609719358928,\n",
       " 0.0886137319564655,\n",
       " 0.09093896473221977,\n",
       " 0.08922247541494711,\n",
       " 0.09073068159880517,\n",
       " 0.09052326263336025]"
      ]
     },
     "execution_count": 20,
     "metadata": {},
     "output_type": "execute_result"
    }
   ],
   "source": [
    "error = []\n",
    "for i, tp in enumerate(time_points):\n",
    "    time = str(tp)+\"ns\"\n",
    "    df = all_df[(all_df[\"NETime(ps)\"] == time) & (all_df['MD_run'] != \"Average\")]\n",
    "    average = df['Change(Å)'].mean()\n",
    "    tp_error = df['Change(Å)'].std()\n",
    "    tp_se = tp_error/(np.sqrt(len(df)))\n",
    "    error.append(tp_se)\n",
    "\n",
    "df\n",
    "error"
   ]
  },
  {
   "cell_type": "code",
   "execution_count": 21,
   "metadata": {},
   "outputs": [],
   "source": [
    "evolved_df = pd.read_csv(\"/user/work/fh22600/1A5_Sim/distances_output.txt\", sep='\\t')"
   ]
  },
  {
   "cell_type": "code",
   "execution_count": 22,
   "metadata": {},
   "outputs": [],
   "source": [
    "evolved_error = []\n",
    "for i, tp in enumerate(time_points):\n",
    "    time = str(tp)+\"ns\"\n",
    "    e_df = evolved_df[(evolved_df[\"NETime(ps)\"] == time) & (all_df['MD_run'] != \"Average\")]\n",
    "    e_average = df['Change(Å)'].mean()\n",
    "    e_tp_error = df['Change(Å)'].std()\n",
    "    e_tp_se = e_tp_error/(np.sqrt(len(df)))\n",
    "    evolved_error.append(e_tp_se)\n",
    "\n"
   ]
  },
  {
   "cell_type": "code",
   "execution_count": 23,
   "metadata": {},
   "outputs": [],
   "source": [
    "\n",
    "e_averages_df = evolved_df[evolved_df[\"MD_run\"] == \"Average\"]"
   ]
  },
  {
   "cell_type": "code",
   "execution_count": 24,
   "metadata": {},
   "outputs": [],
   "source": [
    "e_averages_df = e_averages_df[:11]"
   ]
  },
  {
   "cell_type": "code",
   "execution_count": 25,
   "metadata": {},
   "outputs": [
    {
     "data": {
      "text/html": [
       "<div>\n",
       "<style scoped>\n",
       "    .dataframe tbody tr th:only-of-type {\n",
       "        vertical-align: middle;\n",
       "    }\n",
       "\n",
       "    .dataframe tbody tr th {\n",
       "        vertical-align: top;\n",
       "    }\n",
       "\n",
       "    .dataframe thead th {\n",
       "        text-align: right;\n",
       "    }\n",
       "</style>\n",
       "<table border=\"1\" class=\"dataframe\">\n",
       "  <thead>\n",
       "    <tr style=\"text-align: right;\">\n",
       "      <th></th>\n",
       "      <th>NETime(ps)</th>\n",
       "      <th>MD_run</th>\n",
       "      <th>Estarttime(ns)</th>\n",
       "      <th>E_Distance(Å)</th>\n",
       "      <th>NE_Distance(Å)</th>\n",
       "      <th>Change(Å)</th>\n",
       "    </tr>\n",
       "  </thead>\n",
       "  <tbody>\n",
       "    <tr>\n",
       "      <th>550</th>\n",
       "      <td>0ns</td>\n",
       "      <td>Average</td>\n",
       "      <td>Average</td>\n",
       "      <td>14.767</td>\n",
       "      <td>14.767</td>\n",
       "      <td>0.000</td>\n",
       "    </tr>\n",
       "    <tr>\n",
       "      <th>1101</th>\n",
       "      <td>10ns</td>\n",
       "      <td>Average</td>\n",
       "      <td>Average</td>\n",
       "      <td>14.798</td>\n",
       "      <td>14.753</td>\n",
       "      <td>-0.044</td>\n",
       "    </tr>\n",
       "    <tr>\n",
       "      <th>1652</th>\n",
       "      <td>20ns</td>\n",
       "      <td>Average</td>\n",
       "      <td>Average</td>\n",
       "      <td>14.824</td>\n",
       "      <td>14.702</td>\n",
       "      <td>-0.122</td>\n",
       "    </tr>\n",
       "    <tr>\n",
       "      <th>2203</th>\n",
       "      <td>30ns</td>\n",
       "      <td>Average</td>\n",
       "      <td>Average</td>\n",
       "      <td>14.823</td>\n",
       "      <td>14.688</td>\n",
       "      <td>-0.135</td>\n",
       "    </tr>\n",
       "    <tr>\n",
       "      <th>2754</th>\n",
       "      <td>40ns</td>\n",
       "      <td>Average</td>\n",
       "      <td>Average</td>\n",
       "      <td>14.768</td>\n",
       "      <td>14.682</td>\n",
       "      <td>-0.086</td>\n",
       "    </tr>\n",
       "    <tr>\n",
       "      <th>3305</th>\n",
       "      <td>50ns</td>\n",
       "      <td>Average</td>\n",
       "      <td>Average</td>\n",
       "      <td>14.765</td>\n",
       "      <td>14.659</td>\n",
       "      <td>-0.106</td>\n",
       "    </tr>\n",
       "    <tr>\n",
       "      <th>3856</th>\n",
       "      <td>60ns</td>\n",
       "      <td>Average</td>\n",
       "      <td>Average</td>\n",
       "      <td>14.714</td>\n",
       "      <td>14.640</td>\n",
       "      <td>-0.074</td>\n",
       "    </tr>\n",
       "    <tr>\n",
       "      <th>4407</th>\n",
       "      <td>70ns</td>\n",
       "      <td>Average</td>\n",
       "      <td>Average</td>\n",
       "      <td>14.780</td>\n",
       "      <td>14.644</td>\n",
       "      <td>-0.136</td>\n",
       "    </tr>\n",
       "    <tr>\n",
       "      <th>4958</th>\n",
       "      <td>80ns</td>\n",
       "      <td>Average</td>\n",
       "      <td>Average</td>\n",
       "      <td>14.788</td>\n",
       "      <td>14.669</td>\n",
       "      <td>-0.119</td>\n",
       "    </tr>\n",
       "    <tr>\n",
       "      <th>5509</th>\n",
       "      <td>90ns</td>\n",
       "      <td>Average</td>\n",
       "      <td>Average</td>\n",
       "      <td>14.797</td>\n",
       "      <td>14.699</td>\n",
       "      <td>-0.099</td>\n",
       "    </tr>\n",
       "    <tr>\n",
       "      <th>6060</th>\n",
       "      <td>100ns</td>\n",
       "      <td>Average</td>\n",
       "      <td>Average</td>\n",
       "      <td>14.816</td>\n",
       "      <td>14.697</td>\n",
       "      <td>-0.119</td>\n",
       "    </tr>\n",
       "  </tbody>\n",
       "</table>\n",
       "</div>"
      ],
      "text/plain": [
       "     NETime(ps)   MD_run Estarttime(ns)  E_Distance(Å)  NE_Distance(Å)  \\\n",
       "550         0ns  Average        Average         14.767          14.767   \n",
       "1101       10ns  Average        Average         14.798          14.753   \n",
       "1652       20ns  Average        Average         14.824          14.702   \n",
       "2203       30ns  Average        Average         14.823          14.688   \n",
       "2754       40ns  Average        Average         14.768          14.682   \n",
       "3305       50ns  Average        Average         14.765          14.659   \n",
       "3856       60ns  Average        Average         14.714          14.640   \n",
       "4407       70ns  Average        Average         14.780          14.644   \n",
       "4958       80ns  Average        Average         14.788          14.669   \n",
       "5509       90ns  Average        Average         14.797          14.699   \n",
       "6060      100ns  Average        Average         14.816          14.697   \n",
       "\n",
       "      Change(Å)  \n",
       "550       0.000  \n",
       "1101     -0.044  \n",
       "1652     -0.122  \n",
       "2203     -0.135  \n",
       "2754     -0.086  \n",
       "3305     -0.106  \n",
       "3856     -0.074  \n",
       "4407     -0.136  \n",
       "4958     -0.119  \n",
       "5509     -0.099  \n",
       "6060     -0.119  "
      ]
     },
     "execution_count": 25,
     "metadata": {},
     "output_type": "execute_result"
    }
   ],
   "source": [
    "e_averages_df"
   ]
  },
  {
   "cell_type": "code",
   "execution_count": 26,
   "metadata": {},
   "outputs": [
    {
     "data": {
      "text/plain": [
       "<matplotlib.legend.Legend at 0x7f9e9ea4aab0>"
      ]
     },
     "execution_count": 26,
     "metadata": {},
     "output_type": "execute_result"
    },
    {
     "data": {
      "image/png": "[encoded data removed]",
      "text/plain": [
       "<Figure size 1000x600 with 1 Axes>"
      ]
     },
     "metadata": {},
     "output_type": "display_data"
    }
   ],
   "source": [
    "plt.figure(figsize=(10,6))\n",
    "plt.rcParams.update({'font.size':22})\n",
    "plt.errorbar(time_points, averages_df['Change(Å)'], color='red', yerr=error, fmt='-o', ecolor='red',capsize=5, label='1A53-2')\n",
    "plt.errorbar(time_points, e_averages_df['Change(Å)'], color='blue',yerr=evolved_error, fmt='-o', ecolor='blue',capsize=5, label='1A53-2.5')\n",
    "\n",
    "plt.xlabel('Time after perturbation / ps')\n",
    "#plt.title('Change in distance between loops 57 and 187 in perturbed 1A53-2 and 1A53-2.5 compared to equilibrium')\n",
    "plt.ylabel('Loop distance change / Å')\n",
    "plt.legend(loc='upper center',prop={'size':17})\n",
    "\n",
    "#plt.errorbar(time_points,designed_disp, yerr=designedyerr, fmt='-o', ecolor='red',capsize=5, label='Designed')"
   ]
  },
  {
   "cell_type": "markdown",
   "metadata": {},
   "source": [
    "Loop distances over time for 1A53-2 and 1A53-2.5"
   ]
  },
  {
   "cell_type": "code",
   "execution_count": 27,
   "metadata": {},
   "outputs": [],
   "source": [
    "evolved_df = pd.read_csv(\"/user/work/fh22600/1A5_Sim/distances_output.txt\", sep='\\t')"
   ]
  },
  {
   "cell_type": "code",
   "execution_count": 28,
   "metadata": {},
   "outputs": [
    {
     "data": {
      "text/html": [
       "<div>\n",
       "<style scoped>\n",
       "    .dataframe tbody tr th:only-of-type {\n",
       "        vertical-align: middle;\n",
       "    }\n",
       "\n",
       "    .dataframe tbody tr th {\n",
       "        vertical-align: top;\n",
       "    }\n",
       "\n",
       "    .dataframe thead th {\n",
       "        text-align: right;\n",
       "    }\n",
       "</style>\n",
       "<table border=\"1\" class=\"dataframe\">\n",
       "  <thead>\n",
       "    <tr style=\"text-align: right;\">\n",
       "      <th></th>\n",
       "      <th>NETime(ps)</th>\n",
       "      <th>MD_run</th>\n",
       "      <th>Estarttime(ns)</th>\n",
       "      <th>E_Distance(Å)</th>\n",
       "      <th>NE_Distance(Å)</th>\n",
       "      <th>Change(Å)</th>\n",
       "    </tr>\n",
       "  </thead>\n",
       "  <tbody>\n",
       "    <tr>\n",
       "      <th>0</th>\n",
       "      <td>0ns</td>\n",
       "      <td>1</td>\n",
       "      <td>50</td>\n",
       "      <td>9.710</td>\n",
       "      <td>9.710</td>\n",
       "      <td>0.000</td>\n",
       "    </tr>\n",
       "    <tr>\n",
       "      <th>1</th>\n",
       "      <td>0ns</td>\n",
       "      <td>1</td>\n",
       "      <td>60</td>\n",
       "      <td>10.908</td>\n",
       "      <td>10.908</td>\n",
       "      <td>0.000</td>\n",
       "    </tr>\n",
       "    <tr>\n",
       "      <th>2</th>\n",
       "      <td>0ns</td>\n",
       "      <td>1</td>\n",
       "      <td>70</td>\n",
       "      <td>9.823</td>\n",
       "      <td>9.823</td>\n",
       "      <td>0.000</td>\n",
       "    </tr>\n",
       "    <tr>\n",
       "      <th>3</th>\n",
       "      <td>0ns</td>\n",
       "      <td>1</td>\n",
       "      <td>75</td>\n",
       "      <td>8.659</td>\n",
       "      <td>8.659</td>\n",
       "      <td>0.000</td>\n",
       "    </tr>\n",
       "    <tr>\n",
       "      <th>4</th>\n",
       "      <td>0ns</td>\n",
       "      <td>1</td>\n",
       "      <td>80</td>\n",
       "      <td>11.436</td>\n",
       "      <td>11.436</td>\n",
       "      <td>0.000</td>\n",
       "    </tr>\n",
       "    <tr>\n",
       "      <th>...</th>\n",
       "      <td>...</td>\n",
       "      <td>...</td>\n",
       "      <td>...</td>\n",
       "      <td>...</td>\n",
       "      <td>...</td>\n",
       "      <td>...</td>\n",
       "    </tr>\n",
       "    <tr>\n",
       "      <th>8811</th>\n",
       "      <td>150ns</td>\n",
       "      <td>10</td>\n",
       "      <td>475</td>\n",
       "      <td>14.235</td>\n",
       "      <td>13.729</td>\n",
       "      <td>-0.506</td>\n",
       "    </tr>\n",
       "    <tr>\n",
       "      <th>8812</th>\n",
       "      <td>150ns</td>\n",
       "      <td>10</td>\n",
       "      <td>480</td>\n",
       "      <td>16.379</td>\n",
       "      <td>13.464</td>\n",
       "      <td>-2.916</td>\n",
       "    </tr>\n",
       "    <tr>\n",
       "      <th>8813</th>\n",
       "      <td>150ns</td>\n",
       "      <td>10</td>\n",
       "      <td>490</td>\n",
       "      <td>16.359</td>\n",
       "      <td>15.574</td>\n",
       "      <td>-0.786</td>\n",
       "    </tr>\n",
       "    <tr>\n",
       "      <th>8814</th>\n",
       "      <td>150ns</td>\n",
       "      <td>10</td>\n",
       "      <td>500</td>\n",
       "      <td>12.454</td>\n",
       "      <td>16.554</td>\n",
       "      <td>4.099</td>\n",
       "    </tr>\n",
       "    <tr>\n",
       "      <th>8815</th>\n",
       "      <td>150ns</td>\n",
       "      <td>Average</td>\n",
       "      <td>Average</td>\n",
       "      <td>14.751</td>\n",
       "      <td>14.709</td>\n",
       "      <td>-0.042</td>\n",
       "    </tr>\n",
       "  </tbody>\n",
       "</table>\n",
       "<p>8816 rows × 6 columns</p>\n",
       "</div>"
      ],
      "text/plain": [
       "     NETime(ps)   MD_run Estarttime(ns)  E_Distance(Å)  NE_Distance(Å)  \\\n",
       "0           0ns        1             50          9.710           9.710   \n",
       "1           0ns        1             60         10.908          10.908   \n",
       "2           0ns        1             70          9.823           9.823   \n",
       "3           0ns        1             75          8.659           8.659   \n",
       "4           0ns        1             80         11.436          11.436   \n",
       "...         ...      ...            ...            ...             ...   \n",
       "8811      150ns       10            475         14.235          13.729   \n",
       "8812      150ns       10            480         16.379          13.464   \n",
       "8813      150ns       10            490         16.359          15.574   \n",
       "8814      150ns       10            500         12.454          16.554   \n",
       "8815      150ns  Average        Average         14.751          14.709   \n",
       "\n",
       "      Change(Å)  \n",
       "0         0.000  \n",
       "1         0.000  \n",
       "2         0.000  \n",
       "3         0.000  \n",
       "4         0.000  \n",
       "...         ...  \n",
       "8811     -0.506  \n",
       "8812     -2.916  \n",
       "8813     -0.786  \n",
       "8814      4.099  \n",
       "8815     -0.042  \n",
       "\n",
       "[8816 rows x 6 columns]"
      ]
     },
     "execution_count": 28,
     "metadata": {},
     "output_type": "execute_result"
    }
   ],
   "source": [
    "evolved_df"
   ]
  },
  {
   "cell_type": "code",
   "execution_count": 29,
   "metadata": {},
   "outputs": [],
   "source": [
    "evolved_averages_df = evolved_df[evolved_df[\"MD_run\"] == \"Average\"]"
   ]
  },
  {
   "cell_type": "code",
   "execution_count": 30,
   "metadata": {},
   "outputs": [],
   "source": [
    "evolved_averages_df = evolved_averages_df[:11]"
   ]
  },
  {
   "cell_type": "code",
   "execution_count": 31,
   "metadata": {},
   "outputs": [],
   "source": [
    "time_points = [0,10,20,30,40,50,60,70,80,90,100]"
   ]
  },
  {
   "cell_type": "code",
   "execution_count": 32,
   "metadata": {},
   "outputs": [],
   "source": [
    "evolved_ne_error = [] \n",
    "evolved_e_error = []\n",
    "for i, tp in enumerate(time_points):\n",
    "    time = str(tp)+\"ns\"\n",
    "    e_df = evolved_df[(evolved_df[\"NETime(ps)\"] == time) & (evolved_df['MD_run'] != \"Average\")]\n",
    "    evolved_average = e_df['Change(Å)'].mean()\n",
    "    e_ne_sd = e_df['NE_Distance(Å)'].std()\n",
    "    e_ne_se = e_ne_sd/(np.sqrt(550))\n",
    "    evolved_ne_error.append(e_ne_se)\n",
    "\n",
    "    e_e_sd = e_df['E_Distance(Å)'].std()\n",
    "    e_e_se = e_e_sd/(np.sqrt(len(df)))\n",
    "    evolved_e_error.append(e_e_se)\n"
   ]
  },
  {
   "cell_type": "code",
   "execution_count": 33,
   "metadata": {},
   "outputs": [
    {
     "data": {
      "text/plain": [
       "Text(0.5, 0, 'Time after perturbation / ps')"
      ]
     },
     "execution_count": 33,
     "metadata": {},
     "output_type": "execute_result"
    },
    {
     "data": {
      "image/png": "[encoded data removed]",
      "text/plain": [
       "<Figure size 1000x600 with 1 Axes>"
      ]
     },
     "metadata": {},
     "output_type": "display_data"
    }
   ],
   "source": [
    "plt.figure(figsize=(10,6))\n",
    "plt.errorbar(time_points, averages_df['E_Distance(Å)'], color='gray',yerr=e_error, fmt='-o', ecolor='gray',capsize=5,label='Before perturbation')\n",
    "plt.errorbar(time_points, averages_df['NE_Distance(Å)'], color='red', yerr=ne_error, fmt='-o', ecolor='red',capsize=5, label='Perturbed 1A53-2')\n",
    "\n",
    "\n",
    "plt.errorbar(time_points, evolved_averages_df['NE_Distance(Å)'], color='blue', yerr=evolved_ne_error, fmt='-o', ecolor='blue',capsize=5,label='Perturbed 1A53-2.5')\n",
    "plt.errorbar(time_points, evolved_averages_df['E_Distance(Å)'], color='gray',yerr=evolved_e_error, fmt='-o', ecolor='gray',capsize=5)\n",
    "plt.legend(prop={'size':15})\n",
    "#plt.legend(loc='upper left', bbox_to_anchor=(1, 1))\n",
    "#plt.legend(bbox_to_anchor=(1, 1), prop={'size':15})\n",
    "plt.ylabel('Average loop distance / Å', wrap='true')\n",
    "plt.xlabel('Time after perturbation / ps')\n",
    "#plt.title('Distance between loops 57 and 187 before and after ligand removal in 1A53-2 and 1A53-2.5')"
   ]
  },
  {
   "cell_type": "code",
   "execution_count": null,
   "metadata": {},
   "outputs": [],
   "source": []
  },
  {
   "cell_type": "code",
   "execution_count": null,
   "metadata": {},
   "outputs": [],
   "source": []
  }
 ],
 "metadata": {
  "kernelspec": {
   "display_name": "mda",
   "language": "python",
   "name": "python3"
  },
  "language_info": {
   "codemirror_mode": {
    "name": "ipython",
    "version": 3
   },
   "file_extension": ".py",
   "mimetype": "text/x-python",
   "name": "python",
   "nbconvert_exporter": "python",
   "pygments_lexer": "ipython3",
   "version": "3.12.7"
  }
 },
 "nbformat": 4,
 "nbformat_minor": 2
}
